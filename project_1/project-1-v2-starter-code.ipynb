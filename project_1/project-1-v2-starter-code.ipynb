{
 "cells": [
  {
   "cell_type": "markdown",
   "metadata": {},
   "source": [
    "<img src=\"http://imgur.com/1ZcRyrc.png\" style=\"float: left; margin: 15px; height: 80px\">\n",
    "\n",
    "# Project 1\n",
    "\n",
    "### Building \"Pokemon Stay\"\n",
    "\n",
    "---\n",
    "You are an analyst at a \"scrappy\" online gaming company that specializes in remakes of last year's fads.\n",
    "\n",
    "Your boss, who runs the product development team, is convinced that Pokemon Go's fatal flaw was that you had to actually move around outside. She has design mock-ups for a new game called Pokemon Stay: in this version players still need to move, but just from website to website. Pokemon gyms are now popular online destinations, and catching Pokemon in the \"wild\" simply requires browsing the internet for hours in the comfort of your home.\n",
    "\n",
    "She wants you to program a prototype version of the game, and analyze the planned content to help the team calibrate the design."
   ]
  },
  {
   "cell_type": "markdown",
   "metadata": {},
   "source": [
    "#### Package imports\n",
    "\n",
    "The pprint package below is the only package imported here, and it's not even strictly required to do any of the project. Printing python variables and objects with pprint can help to format them in a \"prettier\" way."
   ]
  },
  {
   "cell_type": "code",
   "execution_count": 1,
   "metadata": {},
   "outputs": [],
   "source": [
    "from pprint import pprint #dklfjslkadjflksdajflksdjaflkjdsalkdfjlaskjf"
   ]
  },
  {
   "cell_type": "markdown",
   "metadata": {},
   "source": [
    "<img src=\"http://imgur.com/l5NasQj.png\" style=\"float: left; margin: 25px 15px 0px 0px; height: 25px\">\n",
    "\n",
    "## 1. Defining a player\n",
    "\n",
    "---\n",
    "\n",
    "The player variables are:\n",
    "\n",
    "    player_id : id code unique to each player (integer)\n",
    "    player_name : entered name of the player (string)\n",
    "    time_played : number of time played the game in minutes (float)\n",
    "    player_pokemon: the player's captured pokemon (dictionary)\n",
    "    gyms_visited: ids of the gyms that a player has visited (list)\n",
    "    \n",
    "Create the components for a player object by defining each of these variables. The dictionary and list variables should just be defined as empty; you can use any (correctly typed) values for the others."
   ]
  },
  {
   "cell_type": "code",
   "execution_count": 2,
   "metadata": {},
   "outputs": [
    {
     "data": {
      "text/plain": [
       "{'gyms_visited': [],\n",
       " 'player_name': 'sam',\n",
       " 'player_pokemon': {},\n",
       " 'time_played': []}"
      ]
     },
     "execution_count": 2,
     "metadata": {},
     "output_type": "execute_result"
    }
   ],
   "source": [
    "player = {} #creating empty player dictionary\n",
    "player = {'player_name': 'sam', 'time_played': [], 'player_pokemon': {}, 'gyms_visited': []} #assigning variables to player in a dictionary\n",
    "player"
   ]
  },
  {
   "cell_type": "markdown",
   "metadata": {},
   "source": [
    "<img src=\"http://imgur.com/l5NasQj.png\" style=\"float: left; margin: 25px 15px 0px 0px; height: 25px\">\n",
    "\n",
    "## 2. Defining \"gym\" locations\n",
    "\n",
    "---\n",
    "\n",
    "As the sole programmer, Pokemon Stay will have to start small. To begin, there will be 10 different gym location websites on the internet. The gym locations are:\n",
    "\n",
    "    1. 'reddit.com'\n",
    "    2. 'amazon.com'\n",
    "    3. 'twitter.com'\n",
    "    4. 'linkedin.com'\n",
    "    5. 'ebay.com'\n",
    "    6. 'netflix.com'\n",
    "    7. 'sporcle.com'\n",
    "    8. 'stackoverflow.com'\n",
    "    9. 'github.com'\n",
    "    10. 'quora.com'\n",
    "\n",
    "1. Set up a list of all the gym locations. This will be a list of strings.\n",
    "2. Append two of these locations to your player's list of visited gyms.\n",
    "3. Print the list."
   ]
  },
  {
   "cell_type": "code",
   "execution_count": 3,
   "metadata": {},
   "outputs": [
    {
     "data": {
      "text/plain": [
       "{'gyms_visited': ['twitter.com', 'linkedin.com'],\n",
       " 'player_name': 'sam',\n",
       " 'player_pokemon': {},\n",
       " 'time_played': []}"
      ]
     },
     "execution_count": 3,
     "metadata": {},
     "output_type": "execute_result"
    }
   ],
   "source": [
    "#defining gym locations in a list\n",
    "gym_locations = ['reddit.com','amazon.com','twitter.com','linkedin.com','ebay.com','netflix.com','sporcle.com','stackoverflow.com','github.com','quora.com']\n",
    "#append 2 of the gym locations to player's list of visited gyms\n",
    "player['gyms_visited'].append(gym_locations[2])\n",
    "player['gyms_visited'].append(gym_locations[3])\n",
    "player"
   ]
  },
  {
   "cell_type": "markdown",
   "metadata": {},
   "source": [
    "<img src=\"http://imgur.com/l5NasQj.png\" style=\"float: left; margin: 25px 15px 0px 0px; height: 25px\">\n",
    "\n",
    "## 3. Create a pokedex\n",
    "\n",
    "---\n",
    "\n",
    "We also need to create some pokemon to catch. Each pokemon will be defined by these variables:\n",
    "\n",
    "    pokemon_id : unique identifier for each pokemon (integer)\n",
    "    name : the name of the pokemon (string)\n",
    "    type : the category of pokemon (string)\n",
    "    hp : base hitpoints (integer)\n",
    "    attack : base attack (integer)\n",
    "    defense : base defense (integer)\n",
    "    special_attack : base special attack (integer)\n",
    "    special_defense : base sepecial defense (integer)\n",
    "    speed : base speed (integer)\n",
    "\n",
    "We are only going to create 3 different pokemon with these `pokemon_id` and `pokemon_name` values:\n",
    "\n",
    "    1 : 'charmander'\n",
    "    2 : 'squirtle'\n",
    "    3 : 'bulbasaur'\n",
    "\n",
    "Create a dictionary that will contain the pokemon. The keys of the dictionary will be the `pokemon_id` and the values will themselves dictionaries that contain the other pokemon variables. The structure of the pokedex dictionary will start like so:\n",
    "     \n",
    "     {\n",
    "         1: {\n",
    "                 'name':'charmander',\n",
    "                 'type':'fire',\n",
    "                 ...\n",
    "                 \n",
    "The `type` of charmander, squirtle, and bulbasaur should be `'fire'`, `'water'`, and `'poison'` respectively. The other values are up to you, make them anything you like!\n",
    "\n",
    "Print (or pretty print) the pokedex dictionary with the 3 pokemon."
   ]
  },
  {
   "cell_type": "code",
   "execution_count": 4,
   "metadata": {},
   "outputs": [],
   "source": [
    "pokemon_id = [1,2,3] #creating pokemon_id list\n",
    "#calling pokemon variables into pokedex dictionary\n",
    "pokedex =  {\n",
    "    pokemon_id[0]: {\n",
    " 'name':'charmander', 'type':'fire', 'hp':90, 'attack':100, 'defense':80, 'special_attack':'fire_blast', 'special_defense':'scale', 'speed':'100'\n",
    " },\n",
    "    pokemon_id[1]: {\n",
    " 'name':'squirtle', 'type':'water', 'hp':80, 'attack':90, 'defense':100, 'special_attack':'water_cannon', 'special_defense':'shell', 'speed':'100'\n",
    " },\n",
    "     pokemon_id[2]: {\n",
    " 'name':'bulbasaur', 'type':'poison', 'hp':100, 'attack':90, 'defense':80, 'special_attack':'ivy_whip', 'special_defense':'harden', 'speed':'100'\n",
    " }\n",
    "}"
   ]
  },
  {
   "cell_type": "code",
   "execution_count": 5,
   "metadata": {},
   "outputs": [
    {
     "data": {
      "text/plain": [
       "{1: {'attack': 100,\n",
       "  'defense': 80,\n",
       "  'hp': 90,\n",
       "  'name': 'charmander',\n",
       "  'special_attack': 'fire_blast',\n",
       "  'special_defense': 'scale',\n",
       "  'speed': '100',\n",
       "  'type': 'fire'},\n",
       " 2: {'attack': 90,\n",
       "  'defense': 100,\n",
       "  'hp': 80,\n",
       "  'name': 'squirtle',\n",
       "  'special_attack': 'water_cannon',\n",
       "  'special_defense': 'shell',\n",
       "  'speed': '100',\n",
       "  'type': 'water'},\n",
       " 3: {'attack': 90,\n",
       "  'defense': 80,\n",
       "  'hp': 100,\n",
       "  'name': 'bulbasaur',\n",
       "  'special_attack': 'ivy_whip',\n",
       "  'special_defense': 'harden',\n",
       "  'speed': '100',\n",
       "  'type': 'poison'}}"
      ]
     },
     "execution_count": 5,
     "metadata": {},
     "output_type": "execute_result"
    }
   ],
   "source": [
    "pokedex"
   ]
  },
  {
   "cell_type": "markdown",
   "metadata": {},
   "source": [
    "<img src=\"http://imgur.com/l5NasQj.png\" style=\"float: left; margin: 25px 15px 0px 0px; height: 25px\">\n",
    "\n",
    "## 4. Create a data structure for players\n",
    "\n",
    "---\n",
    "\n",
    "### 4.1 \n",
    "\n",
    "In order to maintain a database of multiple players, create a dictionary that keeps track of players indexed by `player_id`. \n",
    "\n",
    "The keys of the dictionary will be `player_id` and values will be dictionaries containing each player's variables (from question 1). \n",
    "\n",
    "Construct the `players` dictionary and insert the player that you defined in question 1, then print `players`."
   ]
  },
  {
   "cell_type": "code",
   "execution_count": 6,
   "metadata": {},
   "outputs": [
    {
     "name": "stdout",
     "output_type": "stream",
     "text": [
      "{1: {'time_played': [], 'gyms_visited': ['twitter.com', 'linkedin.com'], 'player_name': 'sam', 'player_pokemon': {}}}\n"
     ]
    }
   ],
   "source": [
    "players = {} #creating players dictionary\n",
    "player_id = [1] #creating player_id list\n",
    "players[player_id[0]] = player #assigning player_id as key and defined player in qns 1 to players dictionary\n",
    "print players"
   ]
  },
  {
   "cell_type": "markdown",
   "metadata": {},
   "source": [
    "---\n",
    "\n",
    "### 4.2\n",
    "\n",
    "Create a new player with `player_id = 2` in the `players` dictionary. Leave the `'player_pokemon'` dictionary empty. Append `'alcatraz'` and `'pacific_beach'` to the `'gyms_visited'` list for player 2.\n",
    "\n",
    "The `'player_name'` and `'time_played'` values are up to you, but must be a string and float, respectively.\n",
    "\n",
    "Remember, the player_id is the key for the player in the players dictionary.\n",
    "\n",
    "Print the `players` dictionary with the new player inserted."
   ]
  },
  {
   "cell_type": "code",
   "execution_count": 7,
   "metadata": {},
   "outputs": [
    {
     "data": {
      "text/plain": [
       "{1: {'gyms_visited': ['twitter.com', 'linkedin.com'],\n",
       "  'player_name': 'sam',\n",
       "  'player_pokemon': {},\n",
       "  'time_played': []},\n",
       " 2: {'gyms_visited': ['alcatraz', 'pacific_beach'],\n",
       "  'player_name': 'ash',\n",
       "  'player_pokemon': {},\n",
       "  'time_played': 2200}}"
      ]
     },
     "execution_count": 7,
     "metadata": {},
     "output_type": "execute_result"
    }
   ],
   "source": [
    "player_id.append(2) #append player 2 id to player_id list\n",
    "#assigning player_id 2 as key and defining player 2's variables in players dictionary\n",
    "players[player_id[1]] = {'player_name': 'ash', 'time_played': 2200, 'player_pokemon': {}, 'gyms_visited': ['alcatraz','pacific_beach']}\n",
    "players"
   ]
  },
  {
   "cell_type": "markdown",
   "metadata": {},
   "source": [
    "<img src=\"http://imgur.com/l5NasQj.png\" style=\"float: left; margin: 25px 15px 0px 0px; height: 25px\">\n",
    "\n",
    "## 5. Add captured pokemon for each player\n",
    "\n",
    "---\n",
    "\n",
    "The `'player_pokemon'` keyed dictionaries for each player keep track of which of the pokemon each player has.\n",
    "\n",
    "The keys of the `'player_pokemon'` dictionaries are the pokemon ids that correspond to the ids in the `pokedex` dictionary you created earlier. The values are integers specifying the stats for the pokemon.\n",
    "\n",
    "Give player 1 a squirtle. Give player 2 charmander and a bulbasaur.\n",
    "\n",
    "Print the players dictionary after adding the pokemon for each player.\n"
   ]
  },
  {
   "cell_type": "code",
   "execution_count": 8,
   "metadata": {},
   "outputs": [
    {
     "name": "stdout",
     "output_type": "stream",
     "text": [
      "{'time_played': [], 'gyms_visited': ['twitter.com', 'linkedin.com'], 'player_name': 'sam', 'player_pokemon': {2: {'attack': 90, 'defense': 100, 'name': 'squirtle', 'special_attack': 'water_cannon', 'speed': '100', 'hp': 80, 'type': 'water', 'special_defense': 'shell'}}}\n",
      "{'time_played': 2200, 'gyms_visited': ['alcatraz', 'pacific_beach'], 'player_name': 'ash', 'player_pokemon': {1: {'attack': 100, 'defense': 80, 'name': 'charmander', 'special_attack': 'fire_blast', 'speed': '100', 'hp': 90, 'type': 'fire', 'special_defense': 'scale'}, 3: {'attack': 90, 'defense': 80, 'name': 'bulbasaur', 'special_attack': 'ivy_whip', 'speed': '100', 'hp': 100, 'type': 'poison', 'special_defense': 'harden'}}}\n"
     ]
    }
   ],
   "source": [
    "players[1]['player_pokemon'][2] = pokedex[2] #assigning squirtle and its pokedex id [2] to player 1's pokemon dict\n",
    "players[2]['player_pokemon'][1] = pokedex[1] #assigning charmander and its pokedex id [1] to player 2's pokemon dict\n",
    "players[2]['player_pokemon'][3] = pokedex[3] #assigning bulbasaur and its pokedex id [3] to player 2's pokemon dict\n",
    "print players[1]\n",
    "print players[2]"
   ]
  },
  {
   "cell_type": "markdown",
   "metadata": {},
   "source": [
    "\n",
    "\n",
    "## 6. What gyms have players visited?\n",
    "\n",
    "---\n",
    "<img src=\"http://imgur.com/l5NasQj.png\" style=\"float: left; margin: 25px 15px 0px 0px; height: 25px\">\n",
    "### 6.1\n",
    "\n",
    "Write a for-loop that:\n",
    "\n",
    "1. Iterates through the `pokemon_gyms` list of gym locations you defined before.\n",
    "2. For each gym, iterate through each player in the `players` dictionary with a second, internal for-loop.\n",
    "3. If the player has visited the gym, print out \"[player] has visited [gym location].\", filling in [player] and [gym location] with the current player's name and current gym location."
   ]
  },
  {
   "cell_type": "code",
   "execution_count": 9,
   "metadata": {},
   "outputs": [
    {
     "name": "stdout",
     "output_type": "stream",
     "text": [
      "sam has visited ['twitter.com']\n",
      "sam has visited ['linkedin.com']\n"
     ]
    }
   ],
   "source": [
    "counter = 1\n",
    "for gym_location in gym_locations: #iterating through gym location list    \n",
    "    for i in range(len(players)): #iterating each player\n",
    "        counter += 1 #no. of times loop runs for qn 6.2\n",
    "        if gym_location in players[i+1]['gyms_visited']: #iterating if player's gym visited is in list of gym locations\n",
    "            print players[i+1]['player_name'], 'has visited', [gym_location]"
   ]
  },
  {
   "cell_type": "markdown",
   "metadata": {},
   "source": [
    "<img src=\"http://imgur.com/xDpSobf.png\" style=\"float: left; margin: 25px 15px 0px 0px; height: 25px\">\n",
    "### 6.2\n",
    "\n",
    "How many times did that loop run? If you have N gyms and also N players, how many times would it run as a function of N?\n",
    "\n",
    "Can you think of a more efficient way to accomplish the same thing? \n",
    "\n",
    "(You can write your answer as Markdown text.)"
   ]
  },
  {
   "cell_type": "code",
   "execution_count": 10,
   "metadata": {},
   "outputs": [
    {
     "name": "stdout",
     "output_type": "stream",
     "text": [
      "21\n"
     ]
    }
   ],
   "source": [
    "print counter\n",
    "#for N gyms and N players, loop will run N(N)-1\n",
    "#can't think of the efficient way"
   ]
  },
  {
   "cell_type": "markdown",
   "metadata": {},
   "source": [
    "<img src=\"http://imgur.com/l5NasQj.png\" style=\"float: left; margin: 25px 15px 0px 0px; height: 25px\">\n",
    "\n",
    "## 7. Calculate player \"power\".\n",
    "\n",
    "---\n",
    "\n",
    "Define a function that will calculate a player's \"power\". Player power is defined as the sum of the base statistics all of their pokemon.\n",
    "\n",
    "Your function will:\n",
    "\n",
    "1. Accept the `players` dictionary, `pokedex` dictionary, and a player_id as arguments.\n",
    "2. For the specified player_id, look up that player's pokemon and their level(s).\n",
    "3. Find and aggregate the attack and defense values for each of the player's pokemon from the `pokedex` dictionary.\n",
    "4. Print \"[player name]'s power is [player power].\", where the player power is the sum of the base statistics for all of their pokemon.\n",
    "5. Return the player's power value.\n",
    "\n",
    "Print out the pokemon power for each of your players."
   ]
  },
  {
   "cell_type": "code",
   "execution_count": 11,
   "metadata": {},
   "outputs": [],
   "source": [
    "def player_power(players, pokedex, player_id):\n",
    "    power = [] #create empty list of power to append attack and defense values of player's pokemon\n",
    "    for key, value in players[player_id]['player_pokemon'].items(): #loop through selected player_id's pokemons\n",
    "        for key2, value2 in pokedex.items(): #loop through pokedex's pokemons\n",
    "            if key == key2: #if player's pokemon_ids matches pokedex's pokemon_ids \n",
    "                power.append(float(value['attack'])) #append pokemon's attack values to power list\n",
    "                power.append(float(value['defense'])) #append pokemon's defense values to power list\n",
    "    print players[player_id]['player_name'], 'power is', sum(power) #get player's power by summing these values\n",
    "    return sum(power)"
   ]
  },
  {
   "cell_type": "code",
   "execution_count": 12,
   "metadata": {},
   "outputs": [
    {
     "name": "stdout",
     "output_type": "stream",
     "text": [
      "ash power is 350.0\n"
     ]
    },
    {
     "data": {
      "text/plain": [
       "350.0"
      ]
     },
     "execution_count": 12,
     "metadata": {},
     "output_type": "execute_result"
    }
   ],
   "source": [
    "player_power(players, pokedex, 2)"
   ]
  },
  {
   "cell_type": "markdown",
   "metadata": {
    "collapsed": true
   },
   "source": [
    "<img src=\"http://imgur.com/l5NasQj.png\" style=\"float: left; margin: 25px 15px 0px 0px; height: 25px\">\n",
    "\n",
    "## 8. Load a pokedex file containing all the pokemon\n",
    "\n",
    "---\n",
    "\n",
    "### 8.1\n",
    "\n",
    "While you were putting together the prototype code, your colleagues were preparing a dataset of Pokemon and their attributes. (This was a rush job, so they may have picked some crazy values for some...)\n",
    "\n",
    "The code below loads information from a comma separated value (csv) file. You need to parse this string into a more useable format. The format of the string is:\n",
    "\n",
    "- Rows are separated by newline characters: \\n\n",
    "- Columns are separated by commas: ,\n",
    "- All cells in the csv are double quoted. Ex: \"PokedexNumber\" is the first cell of the first row.\n",
    "\n",
    "\n",
    "Using for-loops, create a list of lists where each list within the overall list is a row of the csv/matrix, and each element in that list is a cell in that row. Additional criteria:\n",
    "\n",
    "1. Quotes are removed from each cell item.\n",
    "2. Numeric column values are converted to floats.\n",
    "3. There are some cells that are empty and have no information. For these cells put a -1 value in place.\n",
    "\n",
    "Your end result is effectively a matrix. Each list in the outer list is a row, and the *j*th elements of list together form the *j*th column, which represents a data attribute. The first three lists in your pokedex list should look like this:\n",
    "\n",
    "    ['PokedexNumber', 'Name', 'Type', 'Total', 'HP', 'Attack', 'Defense', 'SpecialAttack', 'SpecialDefense', 'Speed']\n",
    "    [1.0, 'Bulbasaur', 'GrassPoison', 318.0, 45.0, 49.0, 49.0, 65.0, 65.0, 45.0]\n",
    "    [2.0, 'Ivysaur', 'GrassPoison', 405.0, 60.0, 62.0, 63.0, 80.0, 80.0, 60.0]"
   ]
  },
  {
   "cell_type": "code",
   "execution_count": 28,
   "metadata": {},
   "outputs": [],
   "source": [
    "# Code to read in pokedex info\n",
    "raw_pd = ''\n",
    "pokedex_file = 'pokedex_basic.csv'\n",
    "with open(pokedex_file, 'r') as f:\n",
    "    raw_pd = f.read() \n",
    "# the pokedex string is assigned to the raw_pd variable"
   ]
  },
  {
   "cell_type": "code",
   "execution_count": 29,
   "metadata": {},
   "outputs": [
    {
     "data": {
      "text/plain": [
       "['\"PokedexNumber\",\"Name\",\"Type\",\"Total\",\"HP\",\"Attack\",\"Defense\",\"SpecialAttack\",\"SpecialDefense\",\"Speed\"',\n",
       " '\"001\",\"Bulbasaur\",\"GrassPoison\",\"318\",\"45\",\"49\",\"49\",\"65\",\"65\",\"45\"',\n",
       " '\"002\",\"Ivysaur\",\"GrassPoison\",\"405\",\"60\",\"62\",\"63\",\"80\",\"80\",\"60\"',\n",
       " '\"003\",\"Venusaur\",\"GrassPoison\",\"525\",\"80\",\"82\",\"83\",\"100\",\"100\",\"80\"',\n",
       " '\"003\",\"VenusaurMega Venusaur\",\"GrassPoison\",\"625\",\"80\",\"100\",\"123\",\"122\",\"120\",\"80\"']"
      ]
     },
     "execution_count": 29,
     "metadata": {},
     "output_type": "execute_result"
    }
   ],
   "source": [
    "clean1 = raw_pd.splitlines() #split raw_pd into lines\n",
    "clean1[:5] #data example of clean1"
   ]
  },
  {
   "cell_type": "code",
   "execution_count": 30,
   "metadata": {},
   "outputs": [
    {
     "data": {
      "text/plain": [
       "[['PokedexNumber',\n",
       "  'Name',\n",
       "  'Type',\n",
       "  'Total',\n",
       "  'HP',\n",
       "  'Attack',\n",
       "  'Defense',\n",
       "  'SpecialAttack',\n",
       "  'SpecialDefense',\n",
       "  'Speed'],\n",
       " [1.0, 'Bulbasaur', 'GrassPoison', 318.0, 45.0, 49.0, 49.0, 65.0, 65.0, 45.0],\n",
       " [2.0, 'Ivysaur', 'GrassPoison', 405.0, 60.0, 62.0, 63.0, 80.0, 80.0, 60.0]]"
      ]
     },
     "execution_count": 30,
     "metadata": {},
     "output_type": "execute_result"
    }
   ],
   "source": [
    "clean2 = [] #create empty list to append clean list after removing quotes\n",
    "for line in clean1: #loop through each line of clean1 dataset\n",
    "    clean2.append(line.replace('\"','').split(\",\")) #removing quotes from each line and appending to new list clean2\n",
    "    clean3 = [] #create empty list to append clean list after cleaning cells\n",
    "    for row in clean2:\n",
    "        newrow = [] #create empty row list to append cleaned cells\n",
    "        for i in row:\n",
    "                if i == '': #replace cell with 'a-i' if empty\n",
    "                    newrow.append('a-i')\n",
    "                elif i.isdigit() is True: #float cell if it is a digit\n",
    "                    newrow.append(float(i)) #append float cell\n",
    "                else:\n",
    "                    newrow.append(i) #append string cell otherwise\n",
    "        clean3.append(newrow) #append cleaned rows into clean3 list\n",
    "clean3[:3] #data example of clean3"
   ]
  },
  {
   "cell_type": "markdown",
   "metadata": {},
   "source": [
    "<img src=\"http://imgur.com/xDpSobf.png\" style=\"float: left; margin: 25px 15px 0px 0px; height: 25px\">\n",
    "\n",
    "### 8.2 Parse the raw pokedex with list comprehensions\n",
    "\n",
    "---\n",
    "\n",
    "Perform the same parsing as above, but **using only a single list comprehension** instead of for loops. You may have nested list comprehensions within the main list comprehension! The output should be exactly the same."
   ]
  },
  {
   "cell_type": "code",
   "execution_count": 31,
   "metadata": {},
   "outputs": [
    {
     "data": {
      "text/plain": [
       "[['PokedexNumber',\n",
       "  'Name',\n",
       "  'Type',\n",
       "  'Total',\n",
       "  'HP',\n",
       "  'Attack',\n",
       "  'Defense',\n",
       "  'SpecialAttack',\n",
       "  'SpecialDefense',\n",
       "  'Speed'],\n",
       " [1.0, 'Bulbasaur', 'GrassPoison', 318.0, 45.0, 49.0, 49.0, 65.0, 65.0, 45.0],\n",
       " [2.0, 'Ivysaur', 'GrassPoison', 405.0, 60.0, 62.0, 63.0, 80.0, 80.0, 60.0]]"
      ]
     },
     "execution_count": 31,
     "metadata": {},
     "output_type": "execute_result"
    }
   ],
   "source": [
    "pokedex_data = [['is-a' if row[i] == '' else float(row[i]) if row[i].isdigit() else row[i] for i in range(len(row))] #replace empty cells with 'a-1', convert digit cells into float, else attach cell as string for each row\n",
    "                for row in [line.replace('\"','').split(\",\") for line in raw_pd.splitlines()]] #remove quotes and split lines into each cell after splitting lines for raw pokedex\n",
    "pokedex_data[:3] #data example of cleaned pokedex data with list comprehensions"
   ]
  },
  {
   "cell_type": "markdown",
   "metadata": {},
   "source": [
    "<img src=\"http://imgur.com/l5NasQj.png\" style=\"float: left; margin: 25px 15px 0px 0px; height: 25px\">\n",
    "\n",
    "## 9. Write a function to generate the full pokedex\n",
    "\n",
    "---\n",
    "\n",
    "Write a function that recreates the pokedex you made before, but with the data read in from the full pokemon file. The `PokedexNumber` should be used as the `pokemon_id` key values for the dictionary of pokemon.\n",
    "\n",
    "Your function should:\n",
    "\n",
    "1. Take the parsed pokedex information you created above as an argument.\n",
    "2. Return a dictionary in the same format as your original pokedex you created before containing the information from the parsed full pokedex file.\n",
    "\n",
    "To test the function, print out the pokemon with id = 100."
   ]
  },
  {
   "cell_type": "code",
   "execution_count": 32,
   "metadata": {},
   "outputs": [],
   "source": [
    "def pokemoninfo(pokedex_data, poke_id):\n",
    "    header = pokedex_data[0] #first row of pokedex_data are headers to be used for dictionary keys\n",
    "    data = pokedex_data[1:] #take pokemon data after header\n",
    "    pokedex_dict = {} #create empty pokedex dictionary\n",
    "    for row in range(len(data)): #loop through each row of data\n",
    "        \n",
    "        #as there are pokemon_ids with multiple pokemons assigned, if pokemon_id has already been assigned,\n",
    "        #other pokemons with the same pokemon_id will be appended as a list\n",
    "        if data[row][0] not in pokedex_dict: #assign pokemon to id if pokemon_id is not in the pokedex_dict\n",
    "            pokedex_dict[data[row][0]] = [{header[i+1]: data[row][i+1] for i in range(len(header)-1)}] #pokemon assigned to a list of dictionary. Dictionary where pokemon details as cell values are assigned to header detail keys\n",
    "        else: #if pokemon_id is already in the pokedex_dict, append dictionary to exisiting list\n",
    "            pokedex_dict[data[row][0]].append({header[i+1]: data[row][i+1] for i in range(len(header)-1)})\n",
    "    return pokedex_dict[poke_id] #return details of pokemon(s) with the pokemon_id"
   ]
  },
  {
   "cell_type": "code",
   "execution_count": 33,
   "metadata": {
    "scrolled": true
   },
   "outputs": [
    {
     "data": {
      "text/plain": [
       "[{'Attack': 82.0,\n",
       "  'Defense': 83.0,\n",
       "  'HP': 80.0,\n",
       "  'Name': 'Venusaur',\n",
       "  'SpecialAttack': 100.0,\n",
       "  'SpecialDefense': 100.0,\n",
       "  'Speed': 80.0,\n",
       "  'Total': 525.0,\n",
       "  'Type': 'GrassPoison'},\n",
       " {'Attack': 100.0,\n",
       "  'Defense': 123.0,\n",
       "  'HP': 80.0,\n",
       "  'Name': 'VenusaurMega Venusaur',\n",
       "  'SpecialAttack': 122.0,\n",
       "  'SpecialDefense': 120.0,\n",
       "  'Speed': 80.0,\n",
       "  'Total': 625.0,\n",
       "  'Type': 'GrassPoison'}]"
      ]
     },
     "execution_count": 33,
     "metadata": {},
     "output_type": "execute_result"
    }
   ],
   "source": [
    "pokemoninfo(pokedex_data, 3) #example of pokemon_id with multiple pokemons"
   ]
  },
  {
   "cell_type": "markdown",
   "metadata": {},
   "source": [
    "<img src=\"http://i.imgur.com/GCAf1UX.png\" style=\"float: left; margin: 25px 15px 0px 0px; height: 25px\">\n",
    "\n",
    "## 10. Write a function to generate a \"filtered\" pokedex\n",
    "---\n",
    "Your function should:\n",
    "1. Take the parsed pokedex information you created above as an argument.\n",
    "1. Take a dictionary as a parameter with keys matching the features of the Pokedex, filtering by exact match for string type values, and/or filter continuous variables specified value that is greater than or equal to the dictionary key parameter.\n",
    "1. Return multiple elements from the Pokedex\n",
    "\n",
    "Example:\n",
    "\n",
    "```python\n",
    "\n",
    "# Only filter based on parameters passed\n",
    "filter_options = {\n",
    "    'Attack':   25,\n",
    "    'Defense':  30,\n",
    "    'Type':     'Electric'\n",
    "}\n",
    "\n",
    "# Return records with attack >= 24, defense >= 30, and type == \"Electric\"\n",
    "# Also anticipate that other paramters can also be passed such as \"SpecialAttack\", \"Speed\", etc.\n",
    "filtered_pokedex(pokedex_data, filter=filter_options)\n",
    "\n",
    "# Example output:\n",
    "# [{'Attack': 30.0,\n",
    "#  'Defense': 50.0,\n",
    "#  'HP': 40.0,\n",
    "#  'Name': 'Voltorb',\n",
    "#  'SpecialAttack': 55.0,\n",
    "#  'SpecialDefense': 55.0,\n",
    "#  'Speed': 100.0,\n",
    "#  'Total': 330.0,\n",
    "#  'Type': 'Electric'},\n",
    "#  {'Attack': 30.0,\n",
    "#  'Defense': 33.0,\n",
    "#  'HP': 32.0,\n",
    "#  'Name': 'Pikachu',\n",
    "#  'SpecialAttack': 55.0,\n",
    "#  'SpecialDefense': 55.0,\n",
    "#  'Speed': 100.0,\n",
    "#  'Total': 330.0,\n",
    "#  'Type': 'Electric'},\n",
    "#  ... etc\n",
    "#  ]\n",
    "\n",
    "```\n",
    "\n"
   ]
  },
  {
   "cell_type": "code",
   "execution_count": 131,
   "metadata": {},
   "outputs": [],
   "source": [
    "#Creating pokedex dictionary as per qns 9\n",
    "data = pokedex_data[1:]\n",
    "header = pokedex_data[0]\n",
    "pokedex_dict = {}\n",
    "for row in range(len(data)):\n",
    "    if data[row][0] not in pokedex_dict:\n",
    "        pokedex_dict[data[row][0]] = [{header[i+1]: data[row][i+1] for i in range(len(header)-1)}]\n",
    "    else:\n",
    "        pokedex_dict[data[row][0]].append({header[i+1]: data[row][i+1] for i in range(len(header)-1)})"
   ]
  },
  {
   "cell_type": "code",
   "execution_count": 147,
   "metadata": {},
   "outputs": [],
   "source": [
    "#Given filter options\n",
    "filter_options = {\n",
    "    'Attack':   50,\n",
    "    'Defense':  50,\n",
    "    'Type': 'GrassPoison'\n",
    "}"
   ]
  },
  {
   "cell_type": "code",
   "execution_count": 168,
   "metadata": {},
   "outputs": [],
   "source": [
    "##Joanne's cleaner method\n",
    "# def filtered_pokedex(pokedex_dict, filter=filter_options):\n",
    "#     str_filter = [(k, v) for k, v in filter_options.items() if type(v) == str]\n",
    "#     int_filter = [(k, v) for k, v in filter_options.items() if type(v) == int]\n",
    "\n",
    "\n",
    "#     after_filter = []\n",
    "#     for lines in pokedex_dict.values():\n",
    "#         for line in lines:\n",
    "#             if all(line[k] == v for k, v in str_filter) and all(line[k] >= v for k, v in int_filter):\n",
    "#                 after_filter.append(line)\n",
    "#             else:\n",
    "#                 pass\n",
    "\n",
    "#     print after_filter"
   ]
  },
  {
   "cell_type": "code",
   "execution_count": 169,
   "metadata": {},
   "outputs": [],
   "source": [
    "# filtered_pokedex(pokedex_dict, filter=filter_options)"
   ]
  },
  {
   "cell_type": "code",
   "execution_count": 149,
   "metadata": {},
   "outputs": [],
   "source": [
    "def filtered_pokedex(pokedex_dict, filter=filter_options):\n",
    "    #creating a filter list of pokemons that passes any of the filter_options criteria\n",
    "    filter_poke = []\n",
    "    for row in range(len(pokedex_dict)): #loops through the pokedex dictionary of pokemon_id\n",
    "        #filter on attack        \n",
    "        for ls in pokedex_dict[row+1]: #loops through the lists contained in each pokemon_id\n",
    "            for key, j in ls.items(): #loops through the dictionary in each list\n",
    "                if (key == 'Attack' and j >= filter_options['Attack']):                    \n",
    "                    filter_poke.append(ls['Name']) #append to filter_poke list if pokemon passes the attack criteria\n",
    "        #filter on defense \n",
    "        for ls in pokedex_dict[row+1]:\n",
    "            for key, j in ls.items():\n",
    "                if (key == 'Defense' and j >= filter_options['Defense']):                    \n",
    "                    filter_poke.append(ls['Name']) #append to filter_poke list if pokemon passes the defense criteria            \n",
    "        #filter on type \n",
    "        for i in pokedex_dict[row+1]:\n",
    "            for key, j in ls.items():\n",
    "                if (key == 'Type' and j == filter_options['Type']):                   \n",
    "                    filter_poke.append(ls['Name'])  #append to filter_poke list if pokemon passes the type criteria              \n",
    "                \n",
    "        #selecting pokemons that passes all criteria and appear 3 times in the filter_poke list\n",
    "        select_poke = [] #creating a selected list (select_poke)\n",
    "        for x in filter_poke:\n",
    "            if filter_poke.count(x) == 3:\n",
    "                select_poke.append(x)        \n",
    "        select_poke = list(set(select_poke)) #creating a distinct list of the selected pokemons by using a set\n",
    "        \n",
    "        #retrieve details from pokedex dictionary if pokemon name is in the selected pokemon list\n",
    "        for ls in pokedex_dict[row+1]:\n",
    "            for key, value in ls.items():\n",
    "                if key == 'Name' and value in select_poke:\n",
    "                    print ls"
   ]
  },
  {
   "cell_type": "code",
   "execution_count": 150,
   "metadata": {},
   "outputs": [
    {
     "name": "stdout",
     "output_type": "stream",
     "text": [
      "{'Name': 'Ivysaur', 'SpecialAttack': 80.0, 'HP': 60.0, 'Speed': 60.0, 'Attack': 62.0, 'Defense': 63.0, 'SpecialDefense': 80.0, 'Total': 405.0, 'Type': 'GrassPoison'}\n",
      "{'Name': 'Oddish', 'SpecialAttack': 75.0, 'HP': 45.0, 'Speed': 30.0, 'Attack': 50.0, 'Defense': 55.0, 'SpecialDefense': 65.0, 'Total': 320.0, 'Type': 'GrassPoison'}\n",
      "{'Name': 'Gloom', 'SpecialAttack': 85.0, 'HP': 60.0, 'Speed': 40.0, 'Attack': 65.0, 'Defense': 70.0, 'SpecialDefense': 75.0, 'Total': 395.0, 'Type': 'GrassPoison'}\n",
      "{'Name': 'Vileplume', 'SpecialAttack': 110.0, 'HP': 75.0, 'Speed': 50.0, 'Attack': 80.0, 'Defense': 85.0, 'SpecialDefense': 90.0, 'Total': 490.0, 'Type': 'GrassPoison'}\n",
      "{'Name': 'Weepinbell', 'SpecialAttack': 85.0, 'HP': 65.0, 'Speed': 55.0, 'Attack': 90.0, 'Defense': 50.0, 'SpecialDefense': 45.0, 'Total': 390.0, 'Type': 'GrassPoison'}\n",
      "{'Name': 'Victreebel', 'SpecialAttack': 100.0, 'HP': 80.0, 'Speed': 70.0, 'Attack': 105.0, 'Defense': 65.0, 'SpecialDefense': 70.0, 'Total': 490.0, 'Type': 'GrassPoison'}\n",
      "{'Name': 'Roserade', 'SpecialAttack': 125.0, 'HP': 60.0, 'Speed': 90.0, 'Attack': 70.0, 'Defense': 65.0, 'SpecialDefense': 105.0, 'Total': 515.0, 'Type': 'GrassPoison'}\n",
      "{'Name': 'Amoonguss', 'SpecialAttack': 85.0, 'HP': 114.0, 'Speed': 30.0, 'Attack': 85.0, 'Defense': 70.0, 'SpecialDefense': 80.0, 'Total': 464.0, 'Type': 'GrassPoison'}\n"
     ]
    }
   ],
   "source": [
    "filtered_pokedex(pokedex_dict, filter=filter_options)"
   ]
  },
  {
   "cell_type": "markdown",
   "metadata": {
    "collapsed": true
   },
   "source": [
    "\n",
    "## 9. Descriptive statistics on the prototype pokedex\n",
    "\n",
    "<img src=\"http://imgur.com/l5NasQj.png\" style=\"float: left; margin: 25px 15px 0px 0px; height: 25px\">\n",
    "### 9.1\n",
    "\n",
    "What is the population mean and standard deviation of the \"Total\" attribute for all characters in the Pokedex?\n",
    "\n",
    "\n",
    "\n"
   ]
  },
  {
   "cell_type": "code",
   "execution_count": 24,
   "metadata": {},
   "outputs": [
    {
     "name": "stdout",
     "output_type": "stream",
     "text": [
      "Population mean: 435.1275\n",
      "Population standard deviation: 119.96202000529168\n"
     ]
    }
   ],
   "source": [
    "import numpy as np\n",
    "Totals_dict = {} #create dictionary to identify \"overpowered\" pokemon for qn 9.2\n",
    "Totals_ls = [] #create list to calculate statistics of \"Total\" attribute\n",
    "\n",
    "for row in range(len(pokedex_dict)): #loops through the pokedex dictionary of pokemon_id\n",
    "    for ls in pokedex_dict[row+1]: #loops through the lists contained in each pokemon_id\n",
    "        Totals_ls.append(ls['Total']) #append 'Total' value from listed dictionaries into a new list\n",
    "        Totals_dict[ls['Name']] = ls['Total'] #call new dict with pokemon name and 'Total' value from listed dictionaries\n",
    "\n",
    "print \"Population mean:\", np.mean(Totals_ls)\n",
    "print \"Population standard deviation:\", np.std(Totals_ls)\n"
   ]
  },
  {
   "cell_type": "markdown",
   "metadata": {},
   "source": [
    "<img src=\"http://imgur.com/l5NasQj.png\" style=\"float: left; margin: 25px 15px 0px 0px; height: 25px\">\n",
    "### 9.2\n",
    "\n",
    "The game is no fun if the characters are wildly unbalanced! Are any characters \"overpowered\", which we'll define as having a \"Total\" more than three standard deviations from the population mean?"
   ]
  },
  {
   "cell_type": "code",
   "execution_count": 25,
   "metadata": {},
   "outputs": [
    {
     "name": "stdout",
     "output_type": "stream",
     "text": [
      "Overpowered MewtwoMega Mewtwo X with total value of: 800.0\n"
     ]
    }
   ],
   "source": [
    "for pokemon, total in Totals_dict.items(): #loop through the dictionary of pokemon names and 'Total' value\n",
    "    if Totals_dict[pokemon] > (435.1275+3*119.96202000529168): #print pokemon and 'Total' value if value is 3 std above mean\n",
    "        print 'Overpowered', pokemon, 'with total value of:', total"
   ]
  },
  {
   "cell_type": "markdown",
   "metadata": {},
   "source": [
    "<img src=\"http://imgur.com/xDpSobf.png\" style=\"float: left; margin: 25px 15px 0px 0px; height: 25px\">\n",
    "\n",
    "## 10. Calibrate the frequency of Pokemon\n",
    "\n",
    "The design team wants you to make the powerful Pokemon rare, and the weaklings more common. How would you set the probability $p_i$ of finding Pokemon *i* each time a player visits a gym?\n",
    "\n",
    "Write a function that takes in a Pokedex number and returns a value $p_i$ for that character.\n",
    "\n",
    "Hint: there are many ways you could do this. What do _you_ think makes sense? Start with simplifying assumptions: for example, you could assume that the probabilities of encountering any two Pokemon on one visit to a gym are independent of each other."
   ]
  },
  {
   "cell_type": "code",
   "execution_count": 26,
   "metadata": {},
   "outputs": [],
   "source": [
    "import scipy.stats as st\n",
    "def pokemon_prob(pokedex_data, pokedex_num):\n",
    "    for i in range(len(pokedex_data[pokedex_num])): # loops through the listed dict for each key in the pokedex dict\n",
    "        # standardized Z-score of pokemon's 'Total' value: output[pokedex_num][i]['Total']-435.1275)/119.96202000529168\n",
    "        # get inverse cummulative distribtuion probability which gives lower probability to pokemon with higher Z - score        \n",
    "        print 'Probability of meeting', pokedex_data[pokedex_num][i]['Name'], 'is', round((1 - st.norm.cdf((pokedex_data[pokedex_num][i]['Total']-435.1275)/119.96202000529168))*100,2), '%'       "
   ]
  },
  {
   "cell_type": "code",
   "execution_count": 27,
   "metadata": {},
   "outputs": [
    {
     "name": "stdout",
     "output_type": "stream",
     "text": [
      "Probability of meeting Venusaur is 22.69 %\n",
      "Probability of meeting VenusaurMega Venusaur is 5.67 %\n"
     ]
    }
   ],
   "source": [
    "pokemon_prob(pokedex_dict, 3)"
   ]
  }
 ],
 "metadata": {
  "anaconda-cloud": {},
  "kernelspec": {
   "display_name": "Python 2",
   "language": "python",
   "name": "python2"
  },
  "language_info": {
   "codemirror_mode": {
    "name": "ipython",
    "version": 2
   },
   "file_extension": ".py",
   "mimetype": "text/x-python",
   "name": "python",
   "nbconvert_exporter": "python",
   "pygments_lexer": "ipython2",
   "version": "2.7.14"
  }
 },
 "nbformat": 4,
 "nbformat_minor": 1
}
